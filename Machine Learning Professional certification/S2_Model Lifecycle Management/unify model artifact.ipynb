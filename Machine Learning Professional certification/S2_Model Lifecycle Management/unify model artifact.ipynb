{
 "cells": [
  {
   "cell_type": "code",
   "execution_count": 75,
   "metadata": {
    "application/vnd.databricks.v1+cell": {
     "cellMetadata": {
      "byteLimit": 2048000,
      "rowLimit": 10000
     },
     "inputWidgets": {},
     "nuid": "90f6463a-3337-41de-8b31-c1a2a64088ec",
     "showTitle": false,
     "title": ""
    }
   },
   "outputs": [],
   "source": [
    "import pandas as pd\n",
    "import seaborn as sns\n",
    "#\n",
    "import sklearn\n",
    "from sklearn.model_selection import train_test_split\n",
    "from sklearn.metrics import mean_squared_error\n",
    "from sklearn.ensemble import RandomForestRegressor\n",
    "#\n",
    "import mlflow\n",
    "from mlflow.models.signature import infer_signature\n",
    "#\n",
    "import logging\n",
    "import json \n",
    "import os\n",
    "from sys import version_info"
   ]
  },
  {
   "cell_type": "code",
   "execution_count": null,
   "metadata": {},
   "outputs": [],
   "source": []
  },
  {
   "cell_type": "code",
   "execution_count": 76,
   "metadata": {
    "application/vnd.databricks.v1+cell": {
     "cellMetadata": {
      "byteLimit": 2048000,
      "rowLimit": 10000
     },
     "inputWidgets": {},
     "nuid": "b87107d9-7db2-4151-a97e-c43aaa606af2",
     "showTitle": false,
     "title": ""
    }
   },
   "outputs": [],
   "source": [
    "logging.getLogger(\"mlflow\").setLevel(logging.FATAL)"
   ]
  },
  {
   "cell_type": "code",
   "execution_count": 77,
   "metadata": {
    "application/vnd.databricks.v1+cell": {
     "cellMetadata": {
      "byteLimit": 2048000,
      "rowLimit": 10000
     },
     "inputWidgets": {},
     "nuid": "501be8cb-fd6a-494a-a10b-d58728c86dec",
     "showTitle": false,
     "title": ""
    }
   },
   "outputs": [
    {
     "data": {
      "text/html": [
       "<div>\n",
       "<style scoped>\n",
       "    .dataframe tbody tr th:only-of-type {\n",
       "        vertical-align: middle;\n",
       "    }\n",
       "\n",
       "    .dataframe tbody tr th {\n",
       "        vertical-align: top;\n",
       "    }\n",
       "\n",
       "    .dataframe thead th {\n",
       "        text-align: right;\n",
       "    }\n",
       "</style>\n",
       "<table border=\"1\" class=\"dataframe\">\n",
       "  <thead>\n",
       "    <tr style=\"text-align: right;\">\n",
       "      <th></th>\n",
       "      <th>carat</th>\n",
       "      <th>depth</th>\n",
       "      <th>table</th>\n",
       "      <th>x</th>\n",
       "      <th>y</th>\n",
       "      <th>z</th>\n",
       "    </tr>\n",
       "  </thead>\n",
       "  <tbody>\n",
       "    <tr>\n",
       "      <th>35965</th>\n",
       "      <td>0.25</td>\n",
       "      <td>64.9</td>\n",
       "      <td>58.0</td>\n",
       "      <td>3.95</td>\n",
       "      <td>3.97</td>\n",
       "      <td>2.57</td>\n",
       "    </tr>\n",
       "    <tr>\n",
       "      <th>52281</th>\n",
       "      <td>0.84</td>\n",
       "      <td>61.8</td>\n",
       "      <td>56.0</td>\n",
       "      <td>6.04</td>\n",
       "      <td>6.07</td>\n",
       "      <td>3.74</td>\n",
       "    </tr>\n",
       "    <tr>\n",
       "      <th>6957</th>\n",
       "      <td>1.05</td>\n",
       "      <td>61.1</td>\n",
       "      <td>58.0</td>\n",
       "      <td>6.56</td>\n",
       "      <td>6.51</td>\n",
       "      <td>3.99</td>\n",
       "    </tr>\n",
       "    <tr>\n",
       "      <th>9163</th>\n",
       "      <td>1.02</td>\n",
       "      <td>60.7</td>\n",
       "      <td>56.0</td>\n",
       "      <td>6.53</td>\n",
       "      <td>6.50</td>\n",
       "      <td>3.95</td>\n",
       "    </tr>\n",
       "    <tr>\n",
       "      <th>50598</th>\n",
       "      <td>0.61</td>\n",
       "      <td>61.8</td>\n",
       "      <td>57.0</td>\n",
       "      <td>5.43</td>\n",
       "      <td>5.47</td>\n",
       "      <td>3.37</td>\n",
       "    </tr>\n",
       "  </tbody>\n",
       "</table>\n",
       "</div>"
      ],
      "text/plain": [
       "       carat  depth  table     x     y     z\n",
       "35965   0.25   64.9   58.0  3.95  3.97  2.57\n",
       "52281   0.84   61.8   56.0  6.04  6.07  3.74\n",
       "6957    1.05   61.1   58.0  6.56  6.51  3.99\n",
       "9163    1.02   60.7   56.0  6.53  6.50  3.95\n",
       "50598   0.61   61.8   57.0  5.43  5.47  3.37"
      ]
     },
     "execution_count": 77,
     "metadata": {},
     "output_type": "execute_result"
    }
   ],
   "source": [
    "diamonds_df = sns.load_dataset('diamonds').drop(['cut', 'color', 'clarity'], axis=1)\n",
    "#\n",
    "X_train, X_test, y_train, y_test = train_test_split(diamonds_df.drop([\"price\"], axis=1), diamonds_df[\"price\"], random_state=42)\n",
    "\n",
    "X_train.head()"
   ]
  },
  {
   "cell_type": "markdown",
   "metadata": {
    "application/vnd.databricks.v1+cell": {
     "cellMetadata": {},
     "inputWidgets": {},
     "nuid": "d1c3c6d0-d15e-4096-84cf-60de1324f69f",
     "showTitle": false,
     "title": ""
    }
   },
   "source": [
    "### Sklearn model"
   ]
  },
  {
   "cell_type": "code",
   "execution_count": 78,
   "metadata": {
    "application/vnd.databricks.v1+cell": {
     "cellMetadata": {
      "byteLimit": 2048000,
      "rowLimit": 10000
     },
     "inputWidgets": {},
     "nuid": "df1b8f20-eb5d-473b-923e-d630c6de92fa",
     "showTitle": false,
     "title": ""
    }
   },
   "outputs": [],
   "source": [
    "class sklearn_model(mlflow.pyfunc.PythonModel):\n",
    "    def __init__(self, params):\n",
    "        self.params = params\n",
    "        self.rf_model = None\n",
    "        self.config = None\n",
    "\n",
    "\n",
    "    def load_context(self,context = None,config_path=None):\n",
    "        \"\"\" When loading a pyfunc, this method runs automatically with the related\n",
    "        context. This method is designed to perform the same functionality when\n",
    "        run in a notebook or a downstream operation (like a REST endpoint).\n",
    "        If the `context` object is provided, it will load the path to a config from \n",
    "        that object (this happens with `mlflow.pyfunc.load_model()` is called).\n",
    "        If the `config_path` argument is provided instead, it uses this argument\n",
    "        in order to load in the config. \"\"\"\n",
    "        #\n",
    "        if context: # This block executes for server run\n",
    "            config_path = context.artifacts[\"config_path\"]\n",
    "        else:       # This block executes for notebook run\n",
    "            pass\n",
    "        self.config = json.load(open(config_path))\n",
    "\n",
    "    def fit(self, X_train, y_train):\n",
    "        rf_model = RandomForestRegressor(**self.params)\n",
    "        rf_model.fit(X_train, y_train)\n",
    "        self.rf_model = rf_model\n",
    "\n",
    "    def predict(self, context, model_input):\n",
    "        return self.rf_model.predict(model_input)\n"
   ]
  },
  {
   "cell_type": "code",
   "execution_count": 79,
   "metadata": {
    "application/vnd.databricks.v1+cell": {
     "cellMetadata": {
      "byteLimit": 2048000,
      "rowLimit": 10000
     },
     "inputWidgets": {},
     "nuid": "9600c158-a091-4d7c-809a-306f79e0ccf4",
     "showTitle": false,
     "title": ""
    }
   },
   "outputs": [],
   "source": [
    "params_sklearn = {\n",
    "    \"n_estimators\": 15, \n",
    "    \"max_depth\": 5\n",
    "}\n",
    "#\n",
    "# Designate a path\n",
    "config_path_sklearn = \"data_sklearn.json\"\n",
    "#\n",
    "# Save the results\n",
    "with open(config_path_sklearn, \"w\") as f:\n",
    "    json.dump(params_sklearn, f)\n",
    "#\n",
    "# Generate an artifact object to saved\n",
    "# All paths to the associated values will be copied over when saving\n",
    "artifacts_sklearn = {\"config_path\": config_path_sklearn}"
   ]
  },
  {
   "cell_type": "code",
   "execution_count": 80,
   "metadata": {
    "application/vnd.databricks.v1+cell": {
     "cellMetadata": {
      "byteLimit": 2048000,
      "rowLimit": 10000
     },
     "inputWidgets": {},
     "nuid": "2e61fc58-f4e9-4330-8031-4c39c0daebd9",
     "showTitle": false,
     "title": ""
    }
   },
   "outputs": [
    {
     "data": {
      "text/plain": [
       "{'n_estimators': 15, 'max_depth': 5}"
      ]
     },
     "execution_count": 80,
     "metadata": {},
     "output_type": "execute_result"
    }
   ],
   "source": [
    "model_sk = sklearn_model(params_sklearn)\n",
    "#\n",
    "model_sk.load_context(config_path=config_path_sklearn) \n",
    "#\n",
    "# Confirm the config has loaded\n",
    "model_sk.config"
   ]
  },
  {
   "cell_type": "code",
   "execution_count": 81,
   "metadata": {
    "application/vnd.databricks.v1+cell": {
     "cellMetadata": {
      "byteLimit": 2048000,
      "rowLimit": 10000
     },
     "inputWidgets": {},
     "nuid": "54aeee64-40cf-407f-8dcc-3447a72852eb",
     "showTitle": false,
     "title": ""
    }
   },
   "outputs": [],
   "source": [
    "model_sk.fit(X_train, y_train)"
   ]
  },
  {
   "cell_type": "code",
   "execution_count": 82,
   "metadata": {
    "application/vnd.databricks.v1+cell": {
     "cellMetadata": {
      "byteLimit": 2048000,
      "rowLimit": 10000
     },
     "inputWidgets": {},
     "nuid": "a60ea25f-3aad-4255-84d0-85d3ff6b1fc4",
     "showTitle": false,
     "title": ""
    }
   },
   "outputs": [
    {
     "data": {
      "text/html": [
       "<div>\n",
       "<style scoped>\n",
       "    .dataframe tbody tr th:only-of-type {\n",
       "        vertical-align: middle;\n",
       "    }\n",
       "\n",
       "    .dataframe tbody tr th {\n",
       "        vertical-align: top;\n",
       "    }\n",
       "\n",
       "    .dataframe thead th {\n",
       "        text-align: right;\n",
       "    }\n",
       "</style>\n",
       "<table border=\"1\" class=\"dataframe\">\n",
       "  <thead>\n",
       "    <tr style=\"text-align: right;\">\n",
       "      <th></th>\n",
       "      <th>actual prices</th>\n",
       "      <th>predictions</th>\n",
       "    </tr>\n",
       "  </thead>\n",
       "  <tbody>\n",
       "    <tr>\n",
       "      <th>0</th>\n",
       "      <td>559</td>\n",
       "      <td>579.200912</td>\n",
       "    </tr>\n",
       "    <tr>\n",
       "      <th>1</th>\n",
       "      <td>2201</td>\n",
       "      <td>1873.398839</td>\n",
       "    </tr>\n",
       "    <tr>\n",
       "      <th>2</th>\n",
       "      <td>1238</td>\n",
       "      <td>966.189346</td>\n",
       "    </tr>\n",
       "    <tr>\n",
       "      <th>3</th>\n",
       "      <td>1304</td>\n",
       "      <td>1016.164875</td>\n",
       "    </tr>\n",
       "    <tr>\n",
       "      <th>4</th>\n",
       "      <td>6901</td>\n",
       "      <td>10741.881749</td>\n",
       "    </tr>\n",
       "  </tbody>\n",
       "</table>\n",
       "</div>"
      ],
      "text/plain": [
       "   actual prices   predictions\n",
       "0            559    579.200912\n",
       "1           2201   1873.398839\n",
       "2           1238    966.189346\n",
       "3           1304   1016.164875\n",
       "4           6901  10741.881749"
      ]
     },
     "execution_count": 82,
     "metadata": {},
     "output_type": "execute_result"
    }
   ],
   "source": [
    "predictions_sklearn = model_sk.predict(context=None, model_input=X_test)\n",
    "pd.DataFrame({'actual prices': list(y_test), 'predictions': list(predictions_sklearn)}).head(5)"
   ]
  },
  {
   "cell_type": "code",
   "execution_count": 83,
   "metadata": {
    "application/vnd.databricks.v1+cell": {
     "cellMetadata": {
      "byteLimit": 2048000,
      "rowLimit": 10000
     },
     "inputWidgets": {},
     "nuid": "5435a6e0-f475-4539-b79e-d7ff2913f22e",
     "showTitle": false,
     "title": ""
    }
   },
   "outputs": [
    {
     "data": {
      "text/plain": [
       "inputs: \n",
       "  ['carat': double (required), 'depth': double (required), 'table': double (required), 'x': double (required), 'y': double (required), 'z': double (required)]\n",
       "outputs: \n",
       "  [Tensor('float64', (-1,))]\n",
       "params: \n",
       "  None"
      ]
     },
     "execution_count": 83,
     "metadata": {},
     "output_type": "execute_result"
    }
   ],
   "source": [
    "signature_sklearn = infer_signature(X_test, predictions_sklearn)\n",
    "signature_sklearn"
   ]
  },
  {
   "cell_type": "code",
   "execution_count": 84,
   "metadata": {
    "application/vnd.databricks.v1+cell": {
     "cellMetadata": {
      "byteLimit": 2048000,
      "rowLimit": 10000
     },
     "inputWidgets": {},
     "nuid": "988b9336-61e2-4ef5-a779-4a37e3c44d94",
     "showTitle": false,
     "title": ""
    }
   },
   "outputs": [
    {
     "data": {
      "text/plain": [
       "{'channels': ['defaults'],\n",
       " 'dependencies': ['python=3.10.13',\n",
       "  'pip',\n",
       "  {'pip': ['mlflow', 'scikit-learn==1.5.2']}],\n",
       " 'name': 'sklearn_env'}"
      ]
     },
     "execution_count": 84,
     "metadata": {},
     "output_type": "execute_result"
    }
   ],
   "source": [
    "conda_env_sklearn = {\n",
    "    \"channels\": [\"defaults\"],\n",
    "    \"dependencies\": [\n",
    "        f\"python={version_info.major}.{version_info.minor}.{version_info.micro}\",\n",
    "        \"pip\",\n",
    "        {\"pip\": [\"mlflow\",\n",
    "                 f\"scikit-learn=={sklearn.__version__}\"]\n",
    "        },\n",
    "    ],\n",
    "    \"name\": \"sklearn_env\"\n",
    "}\n",
    "conda_env_sklearn"
   ]
  },
  {
   "cell_type": "code",
   "execution_count": null,
   "metadata": {},
   "outputs": [],
   "source": []
  },
  {
   "cell_type": "code",
   "execution_count": 85,
   "metadata": {
    "application/vnd.databricks.v1+cell": {
     "cellMetadata": {
      "byteLimit": 2048000,
      "rowLimit": 10000
     },
     "inputWidgets": {},
     "nuid": "810cbb16-004c-4605-909d-cad72ea56524",
     "showTitle": false,
     "title": ""
    }
   },
   "outputs": [],
   "source": [
    "with mlflow.start_run() as run:\n",
    "    mlflow.pyfunc.log_model(\n",
    "        \"sklearn_RFR\", \n",
    "        python_model=model_sk, \n",
    "        artifacts=artifacts_sklearn,\n",
    "        conda_env=conda_env_sklearn,\n",
    "        signature=signature_sklearn,\n",
    "        input_example=X_test[:3] \n",
    "  )"
   ]
  },
  {
   "cell_type": "code",
   "execution_count": 86,
   "metadata": {
    "application/vnd.databricks.v1+cell": {
     "cellMetadata": {
      "byteLimit": 2048000,
      "rowLimit": 10000
     },
     "inputWidgets": {},
     "nuid": "e126f932-2a58-40e7-a5b5-c2b101a1ab82",
     "showTitle": false,
     "title": ""
    }
   },
   "outputs": [
    {
     "name": "stdout",
     "output_type": "stream",
     "text": [
      "model_uri :  runs:/c43624d76860495a8ca640a862186883/sklearn_RFR\n"
     ]
    }
   ],
   "source": [
    "mlflow_pyfunc_model_path_sk = f\"runs:/{run.info.run_id}/sklearn_RFR\"\n",
    "print(\"model_uri : \",mlflow_pyfunc_model_path_sk)\n",
    "loaded_preprocess_model_sk = mlflow.pyfunc.load_model(mlflow_pyfunc_model_path_sk)"
   ]
  },
  {
   "cell_type": "markdown",
   "metadata": {
    "application/vnd.databricks.v1+cell": {
     "cellMetadata": {},
     "inputWidgets": {},
     "nuid": "dac69e4d-1aa0-48bd-9430-fef84f16af3d",
     "showTitle": false,
     "title": ""
    }
   },
   "source": [
    "#### Tensorflow model"
   ]
  },
  {
   "cell_type": "code",
   "execution_count": 114,
   "metadata": {
    "application/vnd.databricks.v1+cell": {
     "cellMetadata": {
      "byteLimit": 2048000,
      "rowLimit": 10000
     },
     "inputWidgets": {},
     "nuid": "b2a18c54-f0a6-401c-b1bc-0ed3625a1b74",
     "showTitle": false,
     "title": ""
    }
   },
   "outputs": [
    {
     "name": "stdout",
     "output_type": "stream",
     "text": [
      "TF version :  2.17.0\n"
     ]
    }
   ],
   "source": [
    "\n",
    "import tensorflow as tf\n",
    "from tensorflow.keras.models import Sequential\n",
    "from tensorflow.keras.layers import Dense,Normalization\n",
    "\n",
    "print(\"TF version : \",tf.__version__)\n",
    "\n",
    "    "
   ]
  },
  {
   "cell_type": "code",
   "execution_count": 115,
   "metadata": {
    "application/vnd.databricks.v1+cell": {
     "cellMetadata": {
      "byteLimit": 2048000,
      "rowLimit": 10000
     },
     "inputWidgets": {},
     "nuid": "79402914-3170-4a41-abc9-b99cc78b6aef",
     "showTitle": false,
     "title": ""
    }
   },
   "outputs": [
    {
     "name": "stdout",
     "output_type": "stream",
     "text": [
      "X_train :  (40455, 6)\n",
      "y_train :  (40455,)\n"
     ]
    }
   ],
   "source": [
    "print(\"X_train : \",X_train.shape)\n",
    "print(\"y_train : \",y_train.shape)"
   ]
  },
  {
   "cell_type": "code",
   "execution_count": 116,
   "metadata": {
    "application/vnd.databricks.v1+cell": {
     "cellMetadata": {
      "byteLimit": 2048000,
      "rowLimit": 10000
     },
     "inputWidgets": {},
     "nuid": "a4379374-e177-41c6-a2a8-075c1bc6113e",
     "showTitle": false,
     "title": ""
    }
   },
   "outputs": [],
   "source": [
    "class custom_tf_model(mlflow.pyfunc.PythonModel):\n",
    "    def __init__(self, params):\n",
    "        self.params = params\n",
    "        self.tf_model = None\n",
    "        self.config = None\n",
    "\n",
    "\n",
    "    def load_context(self,context = None,config_path=None):\n",
    "        \"\"\" When loading a pyfunc, this method runs automatically with the related\n",
    "        context. This method is designed to perform the same functionality when\n",
    "        run in a notebook or a downstream operation (like a REST endpoint).\n",
    "        If the `context` object is provided, it will load the path to a config from \n",
    "        that object (this happens with `mlflow.pyfunc.load_model()` is called).\n",
    "        If the `config_path` argument is provided instead, it uses this argument\n",
    "        in order to load in the config. \"\"\"\n",
    "        #\n",
    "        if context: # This block executes for server run\n",
    "            config_path = context.artifacts[\"config_path\"]\n",
    "            #self.tf_model = tf.keras.models.load_model(config_path)\n",
    "        else:       # This block executes for notebook run\n",
    "            pass\n",
    "        self.config = json.load(open(config_path))\n",
    "\n",
    "    def fit(self, X_train, y_train):\n",
    "        tf_model = self.buildAndCompile_tf_regression_mode(input_shape=self.params[\"input_shape\"])\n",
    "        tf_model.fit(X_train,y_train,epochs= self.params[\"epoch\"])\n",
    "        self.tf_model = tf_model\n",
    "\n",
    "    def predict(self, context, model_input):\n",
    "        return self.tf_model.predict(model_input)\n",
    "    \n",
    "\n",
    "    def buildAndCompile_tf_regression_mode(self, input_shape):\n",
    "        model = Sequential([\n",
    "            Normalization(input_shape=input_shape),\n",
    "            Dense(64, activation='relu'),\n",
    "            Dense(64, activation='relu'),\n",
    "            Dense(1)\n",
    "        ])\n",
    "\n",
    "        model.compile(loss='mean_absolute_error',\n",
    "                        optimizer=tf.keras.optimizers.Adam(0.001))\n",
    "        return model\n",
    "    \n",
    "\n",
    "    \n"
   ]
  },
  {
   "cell_type": "code",
   "execution_count": 117,
   "metadata": {
    "application/vnd.databricks.v1+cell": {
     "cellMetadata": {
      "byteLimit": 2048000,
      "rowLimit": 10000
     },
     "inputWidgets": {},
     "nuid": "ec8c490f-4b51-45e2-8ff1-a4f33ef5e74b",
     "showTitle": false,
     "title": ""
    }
   },
   "outputs": [],
   "source": [
    "params_tf = {\n",
    "    \"input_shape\": [6], \n",
    "    \"epoch\": 3\n",
    "}\n",
    "\n",
    "config_path_tf = \"data_tf.json\"\n",
    "\n",
    "# Save the results\n",
    "with open(config_path_tf, \"w\") as f:\n",
    "    json.dump(params_tf, f)\n",
    "artifacts_tf = {\"config_path\": config_path_tf} "
   ]
  },
  {
   "cell_type": "code",
   "execution_count": 118,
   "metadata": {
    "application/vnd.databricks.v1+cell": {
     "cellMetadata": {
      "byteLimit": 2048000,
      "rowLimit": 10000
     },
     "inputWidgets": {},
     "nuid": "a2a951ce-a208-4a98-a056-0a3ce15cdc2c",
     "showTitle": false,
     "title": ""
    }
   },
   "outputs": [
    {
     "data": {
      "text/plain": [
       "{'input_shape': [6], 'epoch': 3}"
      ]
     },
     "execution_count": 118,
     "metadata": {},
     "output_type": "execute_result"
    }
   ],
   "source": [
    "model_tf = custom_tf_model(params_tf)\n",
    "#\n",
    "model_tf.load_context(config_path=config_path_tf) \n",
    "#\n",
    "# Confirm the config has loaded\n",
    "model_tf.config"
   ]
  },
  {
   "cell_type": "code",
   "execution_count": 119,
   "metadata": {
    "application/vnd.databricks.v1+cell": {
     "cellMetadata": {
      "byteLimit": 2048000,
      "rowLimit": 10000
     },
     "inputWidgets": {},
     "nuid": "de416e7b-a160-4f3d-8b54-aafe1fa0e44a",
     "showTitle": false,
     "title": ""
    }
   },
   "outputs": [
    {
     "name": "stdout",
     "output_type": "stream",
     "text": [
      "Epoch 1/3\n"
     ]
    },
    {
     "name": "stderr",
     "output_type": "stream",
     "text": [
      "/opt/anaconda3/envs/ths/lib/python3.10/site-packages/keras/src/layers/preprocessing/tf_data_layer.py:19: UserWarning: Do not pass an `input_shape`/`input_dim` argument to a layer. When using Sequential models, prefer using an `Input(shape)` object as the first layer in the model instead.\n",
      "  super().__init__(**kwargs)\n"
     ]
    },
    {
     "name": "stdout",
     "output_type": "stream",
     "text": [
      "\u001b[1m1265/1265\u001b[0m \u001b[32m━━━━━━━━━━━━━━━━━━━━\u001b[0m\u001b[37m\u001b[0m \u001b[1m8s\u001b[0m 6ms/step - loss: 3059.0767\n",
      "Epoch 2/3\n",
      "\u001b[1m1265/1265\u001b[0m \u001b[32m━━━━━━━━━━━━━━━━━━━━\u001b[0m\u001b[37m\u001b[0m \u001b[1m7s\u001b[0m 5ms/step - loss: 1598.3702\n",
      "Epoch 3/3\n",
      "\u001b[1m1265/1265\u001b[0m \u001b[32m━━━━━━━━━━━━━━━━━━━━\u001b[0m\u001b[37m\u001b[0m \u001b[1m7s\u001b[0m 5ms/step - loss: 818.5640\n"
     ]
    }
   ],
   "source": [
    "model_tf.fit(X_train,y_train)"
   ]
  },
  {
   "cell_type": "code",
   "execution_count": 120,
   "metadata": {
    "application/vnd.databricks.v1+cell": {
     "cellMetadata": {
      "byteLimit": 2048000,
      "rowLimit": 10000
     },
     "inputWidgets": {},
     "nuid": "4236aa8d-2928-4eb8-ba66-db716d1b57c4",
     "showTitle": false,
     "title": ""
    }
   },
   "outputs": [
    {
     "data": {
      "text/plain": [
       "{'channels': ['defaults'],\n",
       " 'dependencies': ['python=3.10.13',\n",
       "  'pip',\n",
       "  {'pip': ['mlflow', 'tensorflow==2.17.0']}],\n",
       " 'name': 'tf_env'}"
      ]
     },
     "execution_count": 120,
     "metadata": {},
     "output_type": "execute_result"
    }
   ],
   "source": [
    "conda_env_tf = {\n",
    "    \"channels\": [\"defaults\"],\n",
    "    \"dependencies\": [\n",
    "        f\"python={version_info.major}.{version_info.minor}.{version_info.micro}\",\n",
    "        \"pip\",\n",
    "        {\"pip\": [\"mlflow\",\n",
    "                 f\"tensorflow=={tf.__version__}\"]\n",
    "        },\n",
    "    ],\n",
    "    \"name\": \"tf_env\"\n",
    "}\n",
    "conda_env_tf"
   ]
  },
  {
   "cell_type": "code",
   "execution_count": 121,
   "metadata": {
    "application/vnd.databricks.v1+cell": {
     "cellMetadata": {
      "byteLimit": 2048000,
      "rowLimit": 10000
     },
     "inputWidgets": {},
     "nuid": "29779d5e-6263-4f84-a51d-67aff4e93088",
     "showTitle": false,
     "title": ""
    }
   },
   "outputs": [
    {
     "name": "stdout",
     "output_type": "stream",
     "text": [
      "\u001b[1m422/422\u001b[0m \u001b[32m━━━━━━━━━━━━━━━━━━━━\u001b[0m\u001b[37m\u001b[0m \u001b[1m0s\u001b[0m 832us/step\n"
     ]
    },
    {
     "data": {
      "text/html": [
       "<div>\n",
       "<style scoped>\n",
       "    .dataframe tbody tr th:only-of-type {\n",
       "        vertical-align: middle;\n",
       "    }\n",
       "\n",
       "    .dataframe tbody tr th {\n",
       "        vertical-align: top;\n",
       "    }\n",
       "\n",
       "    .dataframe thead th {\n",
       "        text-align: right;\n",
       "    }\n",
       "</style>\n",
       "<table border=\"1\" class=\"dataframe\">\n",
       "  <thead>\n",
       "    <tr style=\"text-align: right;\">\n",
       "      <th></th>\n",
       "      <th>actual prices</th>\n",
       "      <th>predictions</th>\n",
       "    </tr>\n",
       "  </thead>\n",
       "  <tbody>\n",
       "    <tr>\n",
       "      <th>0</th>\n",
       "      <td>559</td>\n",
       "      <td>[552.6608]</td>\n",
       "    </tr>\n",
       "    <tr>\n",
       "      <th>1</th>\n",
       "      <td>2201</td>\n",
       "      <td>[2039.6393]</td>\n",
       "    </tr>\n",
       "    <tr>\n",
       "      <th>2</th>\n",
       "      <td>1238</td>\n",
       "      <td>[1006.74023]</td>\n",
       "    </tr>\n",
       "    <tr>\n",
       "      <th>3</th>\n",
       "      <td>1304</td>\n",
       "      <td>[1156.4298]</td>\n",
       "    </tr>\n",
       "    <tr>\n",
       "      <th>4</th>\n",
       "      <td>6901</td>\n",
       "      <td>[10129.005]</td>\n",
       "    </tr>\n",
       "  </tbody>\n",
       "</table>\n",
       "</div>"
      ],
      "text/plain": [
       "   actual prices   predictions\n",
       "0            559    [552.6608]\n",
       "1           2201   [2039.6393]\n",
       "2           1238  [1006.74023]\n",
       "3           1304   [1156.4298]\n",
       "4           6901   [10129.005]"
      ]
     },
     "execution_count": 121,
     "metadata": {},
     "output_type": "execute_result"
    }
   ],
   "source": [
    "predictions_tf = model_tf.predict(context=None, model_input=X_test)\n",
    "pd.DataFrame({'actual prices': list(y_test), 'predictions': list(predictions_tf)}).head(5)\n"
   ]
  },
  {
   "cell_type": "code",
   "execution_count": 122,
   "metadata": {
    "application/vnd.databricks.v1+cell": {
     "cellMetadata": {
      "byteLimit": 2048000,
      "rowLimit": 10000
     },
     "inputWidgets": {},
     "nuid": "b2b69937-748a-4b6f-919a-177a8872ea3b",
     "showTitle": false,
     "title": ""
    }
   },
   "outputs": [
    {
     "data": {
      "text/plain": [
       "inputs: \n",
       "  ['carat': double (required), 'depth': double (required), 'table': double (required), 'x': double (required), 'y': double (required), 'z': double (required)]\n",
       "outputs: \n",
       "  [Tensor('float32', (-1, 1))]\n",
       "params: \n",
       "  None"
      ]
     },
     "execution_count": 122,
     "metadata": {},
     "output_type": "execute_result"
    }
   ],
   "source": [
    "signature_tf = infer_signature(X_test, predictions_tf)\n",
    "signature_tf"
   ]
  },
  {
   "cell_type": "code",
   "execution_count": 123,
   "metadata": {
    "application/vnd.databricks.v1+cell": {
     "cellMetadata": {
      "byteLimit": 2048000,
      "rowLimit": 10000
     },
     "inputWidgets": {},
     "nuid": "eb1e316e-d7e5-410f-a7a0-5f800c83e291",
     "showTitle": false,
     "title": ""
    }
   },
   "outputs": [
    {
     "data": {
      "text/plain": [
       "{'config_path': 'data_tf.json'}"
      ]
     },
     "execution_count": 123,
     "metadata": {},
     "output_type": "execute_result"
    }
   ],
   "source": [
    "artifacts_tf"
   ]
  },
  {
   "cell_type": "code",
   "execution_count": 124,
   "metadata": {
    "application/vnd.databricks.v1+cell": {
     "cellMetadata": {
      "byteLimit": 2048000,
      "rowLimit": 10000
     },
     "inputWidgets": {},
     "nuid": "22f42485-a2a5-4228-b40e-7e4bba091224",
     "showTitle": false,
     "title": ""
    }
   },
   "outputs": [
    {
     "name": "stdout",
     "output_type": "stream",
     "text": [
      "\u001b[1m1/1\u001b[0m \u001b[32m━━━━━━━━━━━━━━━━━━━━\u001b[0m\u001b[37m\u001b[0m \u001b[1m0s\u001b[0m 37ms/step\n"
     ]
    }
   ],
   "source": [
    "with mlflow.start_run() as run:\n",
    "    mlflow.pyfunc.log_model(\n",
    "        \"tf_regressor\", \n",
    "        python_model=model_tf, \n",
    "        artifacts=artifacts_tf,\n",
    "        conda_env=conda_env_tf,\n",
    "        signature=signature_tf,\n",
    "        input_example=X_test[:3] \n",
    "  )"
   ]
  },
  {
   "cell_type": "code",
   "execution_count": 127,
   "metadata": {
    "application/vnd.databricks.v1+cell": {
     "cellMetadata": {},
     "inputWidgets": {},
     "nuid": "e4508bb2-5afa-4216-a27e-9811729be16b",
     "showTitle": false,
     "title": ""
    }
   },
   "outputs": [
    {
     "name": "stdout",
     "output_type": "stream",
     "text": [
      "mlflow_pyfunc_model_path_tf :  runs:/c2b10f01d64c47eb882276600d6454ac/tf_regressor\n"
     ]
    }
   ],
   "source": [
    "mlflow_pyfunc_model_path_tf = f\"runs:/{run.info.run_id}/tf_regressor\"\n",
    "print(\"mlflow_pyfunc_model_path_tf : \",mlflow_pyfunc_model_path_tf)\n",
    "loaded_preprocess_model_tf = mlflow.pyfunc.load_model(mlflow_pyfunc_model_path_tf)\n"
   ]
  },
  {
   "cell_type": "code",
   "execution_count": 128,
   "metadata": {},
   "outputs": [
    {
     "name": "stdout",
     "output_type": "stream",
     "text": [
      "\u001b[1m422/422\u001b[0m \u001b[32m━━━━━━━━━━━━━━━━━━━━\u001b[0m\u001b[37m\u001b[0m \u001b[1m0s\u001b[0m 871us/step\n"
     ]
    },
    {
     "data": {
      "text/html": [
       "<div>\n",
       "<style scoped>\n",
       "    .dataframe tbody tr th:only-of-type {\n",
       "        vertical-align: middle;\n",
       "    }\n",
       "\n",
       "    .dataframe tbody tr th {\n",
       "        vertical-align: top;\n",
       "    }\n",
       "\n",
       "    .dataframe thead th {\n",
       "        text-align: right;\n",
       "    }\n",
       "</style>\n",
       "<table border=\"1\" class=\"dataframe\">\n",
       "  <thead>\n",
       "    <tr style=\"text-align: right;\">\n",
       "      <th></th>\n",
       "      <th>actual prices</th>\n",
       "      <th>predictions</th>\n",
       "    </tr>\n",
       "  </thead>\n",
       "  <tbody>\n",
       "    <tr>\n",
       "      <th>0</th>\n",
       "      <td>559</td>\n",
       "      <td>[552.6608]</td>\n",
       "    </tr>\n",
       "    <tr>\n",
       "      <th>1</th>\n",
       "      <td>2201</td>\n",
       "      <td>[2039.6393]</td>\n",
       "    </tr>\n",
       "    <tr>\n",
       "      <th>2</th>\n",
       "      <td>1238</td>\n",
       "      <td>[1006.74023]</td>\n",
       "    </tr>\n",
       "    <tr>\n",
       "      <th>3</th>\n",
       "      <td>1304</td>\n",
       "      <td>[1156.4298]</td>\n",
       "    </tr>\n",
       "    <tr>\n",
       "      <th>4</th>\n",
       "      <td>6901</td>\n",
       "      <td>[10129.005]</td>\n",
       "    </tr>\n",
       "  </tbody>\n",
       "</table>\n",
       "</div>"
      ],
      "text/plain": [
       "   actual prices   predictions\n",
       "0            559    [552.6608]\n",
       "1           2201   [2039.6393]\n",
       "2           1238  [1006.74023]\n",
       "3           1304   [1156.4298]\n",
       "4           6901   [10129.005]"
      ]
     },
     "execution_count": 128,
     "metadata": {},
     "output_type": "execute_result"
    }
   ],
   "source": [
    "#\n",
    "y_pred_tf = loaded_preprocess_model_tf.predict(X_test)\n",
    "#\n",
    "pd.DataFrame({'actual prices': list(y_test), 'predictions': list(y_pred_tf)}).head(5)"
   ]
  },
  {
   "cell_type": "code",
   "execution_count": null,
   "metadata": {},
   "outputs": [],
   "source": []
  },
  {
   "cell_type": "code",
   "execution_count": null,
   "metadata": {},
   "outputs": [],
   "source": []
  },
  {
   "cell_type": "code",
   "execution_count": null,
   "metadata": {},
   "outputs": [],
   "source": []
  }
 ],
 "metadata": {
  "application/vnd.databricks.v1+notebook": {
   "dashboards": [],
   "environmentMetadata": null,
   "language": "python",
   "notebookMetadata": {
    "pythonIndentUnit": 4
   },
   "notebookName": "unify model artifact",
   "widgets": {}
  },
  "kernelspec": {
   "display_name": "ths",
   "language": "python",
   "name": "python3"
  },
  "language_info": {
   "codemirror_mode": {
    "name": "ipython",
    "version": 3
   },
   "file_extension": ".py",
   "mimetype": "text/x-python",
   "name": "python",
   "nbconvert_exporter": "python",
   "pygments_lexer": "ipython3",
   "version": "3.10.13"
  }
 },
 "nbformat": 4,
 "nbformat_minor": 0
}
