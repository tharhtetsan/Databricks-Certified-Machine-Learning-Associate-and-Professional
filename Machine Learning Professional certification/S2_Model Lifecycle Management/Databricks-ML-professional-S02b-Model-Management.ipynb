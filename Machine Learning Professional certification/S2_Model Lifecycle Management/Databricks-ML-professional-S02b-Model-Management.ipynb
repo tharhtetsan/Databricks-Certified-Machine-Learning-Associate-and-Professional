{
 "cells": [
  {
   "cell_type": "markdown",
   "metadata": {
    "application/vnd.databricks.v1+cell": {
     "cellMetadata": {
      "byteLimit": 2048000,
      "rowLimit": 10000
     },
     "inputWidgets": {},
     "nuid": "58fab4bb-231e-48cf-8ed4-fc15a1b22845",
     "showTitle": false,
     "title": ""
    }
   },
   "source": [
    "<h4 style=\"font-variant-caps: small-caps;font-size:35pt;\">Databricks-ML-professional-S02b-Model-Management</h4>"
   ]
  },
  {
   "cell_type": "markdown",
   "metadata": {
    "application/vnd.databricks.v1+cell": {
     "cellMetadata": {},
     "inputWidgets": {},
     "nuid": "8ea7e508-0409-46da-8d91-45b8932b6db0",
     "showTitle": false,
     "title": ""
    }
   },
   "source": [
    "<div style='background-color:black;border-radius:5px;border-top:1px solid'></div>\n",
    "<br/>\n",
    "<p>This Notebook adds information related to the following requirements:</p><br/>\n",
    "<b>Preprocessing Logic:</b>\n",
    "<ul>\n",
    "<li>Describe the basic purpose and user interactions with Model Registry</li>\n",
    "<li>Programmatically register a new model or new model version</li>\n",
    "<li>Add metadata to a registered model and a registered model version</li>\n",
    "<li>Identify, compare, and contrast the available model stages</li>\n",
    "<li>Transition, archive, and delete model versions</li>\n",
    "</ul>\n",
    "<br/>\n",
    "<p><b>Download this notebook at format ipynb <a href=\"Databricks-ML-professional-S02b-Model-Management.ipynb\">here</a>.</b></p>\n",
    "<br/>\n",
    "<div style='background-color:black;border-radius:5px;border-top:1px solid'></div>"
   ]
  },
  {
   "cell_type": "markdown",
   "metadata": {
    "application/vnd.databricks.v1+cell": {
     "cellMetadata": {
      "byteLimit": 2048000,
      "rowLimit": 10000
     },
     "inputWidgets": {},
     "nuid": "2d6aaf81-c559-44bd-bc70-25852c40193d",
     "showTitle": false,
     "title": ""
    }
   },
   "source": [
    "<a id=\"modelregistry\"></a>\n",
    "<div style='background-color:rgba(30, 144, 255, 0.1);border-radius:5px;padding:2px;'>\n",
    "<span style=\"font-variant-caps: small-caps;font-weight:700\">1. Describe the basic purpose and user interactions with Model Registry</span></div>"
   ]
  },
  {
   "cell_type": "markdown",
   "metadata": {
    "application/vnd.databricks.v1+cell": {
     "cellMetadata": {
      "byteLimit": 2048000,
      "rowLimit": 10000
     },
     "inputWidgets": {},
     "nuid": "5f56a473-a96c-4e5e-9819-05c6d6d9f5e9",
     "showTitle": false,
     "title": ""
    }
   },
   "source": [
    "<b>MLflow Model Registry is a collaborative hub where teams can share ML models, work together from experimentation to online testing and production, integrate with approval and governance workflows, and monitor ML deployments and their performance.</b>\n",
    "<ul>\n",
    "<li>Is a centralized model store, set of APIs, and UI, to collaboratively manage the full lifecycle of an MLflow Model.</li>\n",
    "<li>Provides model lineage (which MLflow Experiment and Run produced the model), model versioning, stage transitions (e.g. from staging to production), annotations (e.g. with comments, tags), and deployment management (e.g. which production jobs have requested a specific model version)</li>\n",
    "<li>Features of Model Registry:<ul>\n",
    "<li><b>Central Repository:</b> Register MLflow models with the MLflow Model Registry. A registered model has a unique name, version, stage, and other metadata.</li>\n",
    "<li><b>Model Versioning:</b> Automatically keep track of versions for registered models when updated.</li>\n",
    "<li><b>Model Stage:</b> Assigned preset or custom stages to each model version, like “Staging” and “Production” to represent the lifecycle of a model.</li>\n",
    "<li><b>Model Stage Transitions:</b> Record new registration events or changes as activities that automatically log users, changes, and additional metadata such as comments.</li>\n",
    "<li><b>CI/CD Workflow Integration:</b> Record stage transitions, request, review and approve changes as part of CI/CD pipelines for better control and governance.</li>\n",
    "</ul>\n",
    "</li>\n",
    "<li>Can be managed using the UI or in pure python</li>\n",
    "</ul>\n",
    "<div><img src=\"https://files.training.databricks.com/images/eLearning/ML-Part-4/model-registry.png\" style=\"height: 400px; margin: 20px\"/></div>"
   ]
  },
  {
   "cell_type": "markdown",
   "metadata": {
    "application/vnd.databricks.v1+cell": {
     "cellMetadata": {
      "byteLimit": 2048000,
      "rowLimit": 10000
     },
     "inputWidgets": {},
     "nuid": "18e681ce-93ed-4c38-814e-6d851bb56281",
     "showTitle": false,
     "title": ""
    }
   },
   "source": [
    "<a id=\"programmaticregistration\"></a>\n",
    "<div style='background-color:rgba(30, 144, 255, 0.1);border-radius:5px;padding:2px;'>\n",
    "<span style=\"font-variant-caps: small-caps;font-weight:700\">2. Programmatically register a new model or new model version</span></div>\n",
    "<p>Let's quickly train a model and programmaticaly register it to Model registry:</p>"
   ]
  },
  {
   "cell_type": "code",
   "execution_count": 1,
   "metadata": {
    "application/vnd.databricks.v1+cell": {
     "cellMetadata": {
      "byteLimit": 2048000,
      "rowLimit": 10000
     },
     "inputWidgets": {},
     "nuid": "f1f46d6d-4586-482b-ae50-60e2fe77ea64",
     "showTitle": false,
     "title": ""
    }
   },
   "outputs": [],
   "source": [
    "from sklearn.linear_model import LinearRegression\n",
    "from sklearn.model_selection import train_test_split\n",
    "#\n",
    "import seaborn as sns\n",
    "#\n",
    "import mlflow\n",
    "#\n",
    "import logging\n",
    "import re"
   ]
  },
  {
   "cell_type": "code",
   "execution_count": 12,
   "metadata": {},
   "outputs": [
    {
     "data": {
      "text/plain": [
       "<Experiment: artifact_location='mlflow-artifacts:/1', creation_time=1728978842565, experiment_id='1', last_update_time=1728978842565, lifecycle_stage='active', name='register_diamonds', tags={}>"
      ]
     },
     "execution_count": 12,
     "metadata": {},
     "output_type": "execute_result"
    }
   ],
   "source": [
    "TRACKING_URI = \"http://127.0.0.1:8080\"\n",
    "mlflow.set_tracking_uri(TRACKING_URI)\n",
    "mlflow.set_experiment(\"register_diamonds\")"
   ]
  },
  {
   "cell_type": "code",
   "execution_count": 13,
   "metadata": {
    "application/vnd.databricks.v1+cell": {
     "cellMetadata": {
      "byteLimit": 2048000,
      "rowLimit": 10000
     },
     "inputWidgets": {},
     "nuid": "cd267f1b-93e2-4b87-9c8f-67a979660780",
     "showTitle": false,
     "title": ""
    }
   },
   "outputs": [],
   "source": [
    "mlflow.sklearn.autolog(disable=True)\n",
    "logging.getLogger(\"mlflow\").setLevel(logging.FATAL)"
   ]
  },
  {
   "cell_type": "code",
   "execution_count": 14,
   "metadata": {
    "application/vnd.databricks.v1+cell": {
     "cellMetadata": {
      "byteLimit": 2048000,
      "rowLimit": 10000
     },
     "inputWidgets": {},
     "nuid": "b8964a28-4864-413f-8a84-dba563093362",
     "showTitle": false,
     "title": ""
    }
   },
   "outputs": [],
   "source": [
    "diamonds_df = sns.load_dataset(\"diamonds\").drop([\"cut\", \"color\", \"clarity\"], axis=1)\n",
    "#\n",
    "X_train, X_test, y_train, y_test = train_test_split(diamonds_df.drop([\"price\"], axis=1), diamonds_df[\"price\"], test_size=0.33)\n",
    "#\n",
    "model = LinearRegression().fit(X_train, y_train)\n",
    "model_path = \"sns_diamonds\"\n",
    "#\n",
    "with mlflow.start_run(run_name=\"register_diamonds\") as run:\n",
    "    mlflow.sklearn.log_model(sk_model     =model,\n",
    "                             artifact_path=model_path)"
   ]
  },
  {
   "cell_type": "markdown",
   "metadata": {
    "application/vnd.databricks.v1+cell": {
     "cellMetadata": {},
     "inputWidgets": {},
     "nuid": "57292136-b15a-4c28-aa3f-fdeb5c7df0f9",
     "showTitle": false,
     "title": ""
    }
   },
   "source": [
    "<p>Programmaticaly register the latest logged model:</p>\n",
    "<p><i>Note that, running multiple times the command below automatically register a new model with a version number incremented by one from last registered version.</i></p>"
   ]
  },
  {
   "cell_type": "code",
   "execution_count": 15,
   "metadata": {
    "application/vnd.databricks.v1+cell": {
     "cellMetadata": {
      "byteLimit": 2048000,
      "rowLimit": 10000
     },
     "inputWidgets": {},
     "nuid": "227f1c81-1c64-4ef2-acc8-8a31472a81ad",
     "showTitle": false,
     "title": ""
    }
   },
   "outputs": [
    {
     "name": "stderr",
     "output_type": "stream",
     "text": [
      "Successfully registered model 'lr_sns_diamonds'.\n",
      "Created version '1' of model 'lr_sns_diamonds'.\n"
     ]
    }
   ],
   "source": [
    "# get the latest model\n",
    "latest_run_id = mlflow.search_runs().sort_values(by=\"end_time\", ascending=False).head(1)['run_id'][0]\n",
    "#\n",
    "mlflow.register_model(f\"runs:/{latest_run_id}/{model_path}\", name=\"lr_sns_diamonds\");"
   ]
  },
  {
   "cell_type": "markdown",
   "metadata": {
    "application/vnd.databricks.v1+cell": {
     "cellMetadata": {},
     "inputWidgets": {},
     "nuid": "92504d9b-e5a2-445d-8fd5-8450bd258171",
     "showTitle": false,
     "title": ""
    }
   },
   "source": [
    "<p>Alternatively, a newly logged model can be logged automatically by using parameter <code>registered_model_name</code> in <code>mlflow.sklearn.log_model</code>:</p>"
   ]
  },
  {
   "cell_type": "code",
   "execution_count": 16,
   "metadata": {
    "application/vnd.databricks.v1+cell": {
     "cellMetadata": {
      "byteLimit": 2048000,
      "rowLimit": 10000
     },
     "inputWidgets": {},
     "nuid": "cf862e16-c2e7-4972-9c5b-a1cdd74d83bc",
     "showTitle": false,
     "title": ""
    }
   },
   "outputs": [
    {
     "name": "stderr",
     "output_type": "stream",
     "text": [
      "Registered model 'lr_sns_diamonds' already exists. Creating a new version of this model...\n",
      "Created version '2' of model 'lr_sns_diamonds'.\n"
     ]
    }
   ],
   "source": [
    "diamonds_df = sns.load_dataset(\"diamonds\").drop([\"cut\", \"color\", \"clarity\"], axis=1)\n",
    "#\n",
    "X_train, X_test, y_train, y_test = train_test_split(diamonds_df.drop([\"price\"], axis=1), diamonds_df[\"price\"], test_size=0.33)\n",
    "#\n",
    "model = LinearRegression().fit(X_train, y_train)\n",
    "model_path = \"sns_diamonds\"\n",
    "#\n",
    "with mlflow.start_run(run_name=\"register_diamonds\") as run:\n",
    "    mlflow.sklearn.log_model(sk_model     =model,\n",
    "                             artifact_path=model_path,\n",
    "                             registered_model_name=\"lr_sns_diamonds\")"
   ]
  },
  {
   "cell_type": "markdown",
   "metadata": {
    "application/vnd.databricks.v1+cell": {
     "cellMetadata": {},
     "inputWidgets": {},
     "nuid": "a5da6514-85ee-4c9e-95e6-1578d7cfe97c",
     "showTitle": false,
     "title": ""
    }
   },
   "source": [
    "<p>Alternatively, a new registered model can be created from scratch, and then filled with a model from an existing run:</p>"
   ]
  },
  {
   "cell_type": "code",
   "execution_count": 17,
   "metadata": {
    "application/vnd.databricks.v1+cell": {
     "cellMetadata": {
      "byteLimit": 2048000,
      "rowLimit": 10000
     },
     "inputWidgets": {},
     "nuid": "01b63980-94b5-49c3-91cd-cf244ad307bb",
     "showTitle": false,
     "title": ""
    }
   },
   "outputs": [],
   "source": [
    "from mlflow.store.artifact.runs_artifact_repo import RunsArtifactRepository"
   ]
  },
  {
   "cell_type": "code",
   "execution_count": 26,
   "metadata": {
    "application/vnd.databricks.v1+cell": {
     "cellMetadata": {
      "byteLimit": 2048000,
      "rowLimit": 10000
     },
     "inputWidgets": {},
     "nuid": "142b8774-5fbf-4de7-92c0-13e4f3ae731c",
     "showTitle": false,
     "title": ""
    }
   },
   "outputs": [],
   "source": [
    "# Register model name in the model registry\n",
    "client = mlflow.MlflowClient()\n",
    "#client.create_registered_model(\"sns_diamonds_create\")\n",
    "\n",
    "# Create a new version of the rfr model under the registered model name\n",
    "desc = \"A new version of sns diamonds dataset linear regressions model\"\n",
    "runs_uri = f\"runs:/{latest_run_id}/{model_path}\"\n",
    "model_src = RunsArtifactRepository.get_underlying_uri(runs_uri)\n",
    "mv = client.create_model_version(\"sns_diamonds_create\", model_src, latest_run_id, description=desc)"
   ]
  },
  {
   "cell_type": "markdown",
   "metadata": {
    "application/vnd.databricks.v1+cell": {
     "cellMetadata": {
      "byteLimit": 2048000,
      "rowLimit": 10000
     },
     "inputWidgets": {},
     "nuid": "881d8292-e64d-4ef3-9ed4-7be35a45f83b",
     "showTitle": false,
     "title": ""
    }
   },
   "source": [
    "<a id=\"updatemetadata\"></a>\n",
    "<div style='background-color:rgba(30, 144, 255, 0.1);border-radius:5px;padding:2px;'><span style=\"font-variant-caps: small-caps;font-weight:700\">3. Add metadata to a registered model and a registered model version</span></div>"
   ]
  },
  {
   "cell_type": "code",
   "execution_count": 27,
   "metadata": {
    "application/vnd.databricks.v1+cell": {
     "cellMetadata": {
      "byteLimit": 2048000,
      "rowLimit": 10000
     },
     "inputWidgets": {},
     "nuid": "8a2d2e59-7426-4d5f-8d97-3dcff6e5151d",
     "showTitle": false,
     "title": ""
    }
   },
   "outputs": [],
   "source": [
    "client = mlflow.MlflowClient()"
   ]
  },
  {
   "cell_type": "markdown",
   "metadata": {
    "application/vnd.databricks.v1+cell": {
     "cellMetadata": {},
     "inputWidgets": {},
     "nuid": "7d376841-9afe-45de-b705-dc073e8650fc",
     "showTitle": false,
     "title": ""
    }
   },
   "source": [
    "<p>Registered model metadata can be listed:</p>"
   ]
  },
  {
   "cell_type": "code",
   "execution_count": 28,
   "metadata": {
    "application/vnd.databricks.v1+cell": {
     "cellMetadata": {
      "byteLimit": 2048000,
      "rowLimit": 10000
     },
     "inputWidgets": {},
     "nuid": "85c05c1b-015d-405a-b6be-f8484a985d96",
     "showTitle": false,
     "title": ""
    }
   },
   "outputs": [
    {
     "name": "stdout",
     "output_type": "stream",
     "text": [
      "('aliases', {})\n",
      "('creation_timestamp', 1728978848451)\n",
      "('description', '')\n",
      "('last_updated_timestamp', 1728978910712)\n",
      "('latest_versions', [<ModelVersion: aliases=[], creation_timestamp=1728978910712, current_stage='None', description='A new version of sns diamonds dataset linear regressions model', last_updated_timestamp=1728978910712, name='sns_diamonds_create', run_id='246754e0f988487bb1ef6107a6e65c20', run_link='', source='mlflow-artifacts:/1/246754e0f988487bb1ef6107a6e65c20/artifacts/sns_diamonds', status='READY', status_message='', tags={}, user_id='', version='2'>])\n",
      "('name', 'sns_diamonds_create')\n",
      "('tags', {'task': 'classification'})\n"
     ]
    }
   ],
   "source": [
    "for val in client.get_registered_model(\"sns_diamonds_create\"):\n",
    "    print(val)"
   ]
  },
  {
   "cell_type": "code",
   "execution_count": 29,
   "metadata": {
    "application/vnd.databricks.v1+cell": {
     "cellMetadata": {
      "byteLimit": 2048000,
      "rowLimit": 10000
     },
     "inputWidgets": {},
     "nuid": "db526dc9-c88c-4666-8532-0888c52a3efa",
     "showTitle": false,
     "title": ""
    }
   },
   "outputs": [
    {
     "name": "stdout",
     "output_type": "stream",
     "text": [
      "('aliases', {})\n",
      "('creation_timestamp', 1728978848451)\n",
      "('description', '')\n",
      "('last_updated_timestamp', 1728978910712)\n",
      "('latest_versions', [<ModelVersion: aliases=[], creation_timestamp=1728978910712, current_stage='None', description='A new version of sns diamonds dataset linear regressions model', last_updated_timestamp=1728978910712, name='sns_diamonds_create', run_id='246754e0f988487bb1ef6107a6e65c20', run_link='', source='mlflow-artifacts:/1/246754e0f988487bb1ef6107a6e65c20/artifacts/sns_diamonds', status='READY', status_message='', tags={}, user_id='', version='2'>])\n",
      "('name', 'sns_diamonds_create')\n",
      "('tags', {'task': 'classification'})\n"
     ]
    }
   ],
   "source": [
    "# Set registered model tag\n",
    "client.set_registered_model_tag(\"sns_diamonds_create\", \"task\", \"classification\")\n",
    "for val in client.get_registered_model(\"sns_diamonds_create\"):\n",
    "    print(val)"
   ]
  },
  {
   "cell_type": "code",
   "execution_count": 30,
   "metadata": {
    "application/vnd.databricks.v1+cell": {
     "cellMetadata": {
      "byteLimit": 2048000,
      "rowLimit": 10000
     },
     "inputWidgets": {},
     "nuid": "3a553c4c-64f9-49c0-b5fd-4e7fbab7fade",
     "showTitle": false,
     "title": ""
    }
   },
   "outputs": [
    {
     "name": "stdout",
     "output_type": "stream",
     "text": [
      "('aliases', {})\n",
      "('creation_timestamp', 1728978848451)\n",
      "('description', '')\n",
      "('last_updated_timestamp', 1728978910712)\n",
      "('latest_versions', [<ModelVersion: aliases=[], creation_timestamp=1728978910712, current_stage='None', description='A new version of sns diamonds dataset linear regressions model', last_updated_timestamp=1728978910712, name='sns_diamonds_create', run_id='246754e0f988487bb1ef6107a6e65c20', run_link='', source='mlflow-artifacts:/1/246754e0f988487bb1ef6107a6e65c20/artifacts/sns_diamonds', status='READY', status_message='', tags={'validation_status': 'approved'}, user_id='', version='2'>])\n",
      "('name', 'sns_diamonds_create')\n",
      "('tags', {'task': 'classification'})\n"
     ]
    }
   ],
   "source": [
    "# Set model version tag\n",
    "client.set_model_version_tag(\"sns_diamonds_create\", \"2\", \"validation_status\", \"approved\")\n",
    "for val in client.get_registered_model(\"sns_diamonds_create\"):\n",
    "    print(val)"
   ]
  },
  {
   "cell_type": "code",
   "execution_count": null,
   "metadata": {
    "application/vnd.databricks.v1+cell": {
     "cellMetadata": {
      "byteLimit": 2048000,
      "rowLimit": 10000
     },
     "inputWidgets": {},
     "nuid": "30836727-2f6d-46d5-bcfe-cdc65c5db4c5",
     "showTitle": false,
     "title": ""
    }
   },
   "outputs": [
    {
     "name": "stdout",
     "output_type": "stream",
     "text": [
      "Description of version 1 of the model: This is the first version of sns_diamonds_create model\n",
      "Description of version 2 of the model: A new version of sns diamonds dataset linear regressions model\n"
     ]
    }
   ],
   "source": [
    "# Add or update description\n",
    "client.update_model_version(\n",
    "    name=\"sns_diamonds_create\",\n",
    "    version=1,\n",
    "    description=\"This is the first version of sns_diamonds_create model\",\n",
    ")\n",
    "for version in client.search_model_versions(filter_string=\"name='sns_diamonds_create'\"):\n",
    "    print(f\"Description of version {version.version} of the model: {version.description}\")"
   ]
  },
  {
   "cell_type": "markdown",
   "metadata": {
    "application/vnd.databricks.v1+cell": {
     "cellMetadata": {
      "byteLimit": 2048000,
      "rowLimit": 10000
     },
     "inputWidgets": {},
     "nuid": "6bcae850-fdf3-4f95-82e4-30f46c1dca81",
     "showTitle": false,
     "title": ""
    }
   },
   "source": [
    "<p>See more information on how to update registered model <a href=\"https://mlflow.org/docs/latest/model-registry.html\" target=\"_blank\">here</a>.</p>"
   ]
  },
  {
   "cell_type": "markdown",
   "metadata": {
    "application/vnd.databricks.v1+cell": {
     "cellMetadata": {
      "byteLimit": 2048000,
      "rowLimit": 10000
     },
     "inputWidgets": {},
     "nuid": "b5f6d0da-1d81-4fa0-9770-a9e4d6863534",
     "showTitle": false,
     "title": ""
    }
   },
   "source": [
    "<a id=\"modelstages\"></a>\n",
    "<div style='background-color:rgba(30, 144, 255, 0.1);border-radius:5px;padding:2px;'>\n",
    "<span style=\"font-variant-caps: small-caps;font-weight:700\">4. Identify, compare, and contrast the available model stages</div>\n",
    "<ul><li>The MLflow Model Registry defines several model stages: \n",
    "<ul>\n",
    "<li><b>None</b>: the model is in developement</li>\n",
    "<li><b>Staging</b>: the model is to be tested</li>\n",
    "<li><b>Production</b>: the model is tested, validated and in production</li>\n",
    "<li><b>Archived</b>: backup of the model</li>\n",
    "</ul>\n",
    "</li></ul>\n",
    "<p>By default, when registered, models are associated with tag <b>None</b>.</p>"
   ]
  },
  {
   "cell_type": "markdown",
   "metadata": {
    "application/vnd.databricks.v1+cell": {
     "cellMetadata": {
      "byteLimit": 2048000,
      "rowLimit": 10000
     },
     "inputWidgets": {},
     "nuid": "39620a82-0176-40b9-971e-967fda9af39d",
     "showTitle": false,
     "title": ""
    }
   },
   "source": [
    "<a id=\"transitionarchivedelete\"></a>\n",
    "<div style='background-color:rgba(30, 144, 255, 0.1);border-radius:5px;padding:2px;'>\n",
    "<span style=\"font-variant-caps: small-caps;font-weight:700\">5. Transition, archive, and delete model versions</div>"
   ]
  },
  {
   "cell_type": "markdown",
   "metadata": {
    "application/vnd.databricks.v1+cell": {
     "cellMetadata": {
      "byteLimit": 2048000,
      "rowLimit": 10000
     },
     "inputWidgets": {},
     "nuid": "e6e849e0-455b-4487-a134-11e21627dfae",
     "showTitle": false,
     "title": ""
    }
   },
   "source": [
    "<p>List registered models and their latest version:</p>"
   ]
  },
  {
   "cell_type": "code",
   "execution_count": 31,
   "metadata": {
    "application/vnd.databricks.v1+cell": {
     "cellMetadata": {
      "byteLimit": 2048000,
      "rowLimit": 10000
     },
     "inputWidgets": {},
     "nuid": "9871bfb9-fa66-4065-a171-39a6c96ad2ae",
     "showTitle": false,
     "title": ""
    }
   },
   "outputs": [
    {
     "ename": "NameError",
     "evalue": "name 'spark' is not defined",
     "output_type": "error",
     "traceback": [
      "\u001b[0;31m---------------------------------------------------------------------------\u001b[0m",
      "\u001b[0;31mNameError\u001b[0m                                 Traceback (most recent call last)",
      "Cell \u001b[0;32mIn[31], line 14\u001b[0m\n\u001b[1;32m      6\u001b[0m         registered_models\u001b[38;5;241m.\u001b[39mappend((model\u001b[38;5;241m.\u001b[39mlatest_versions[\u001b[38;5;241m0\u001b[39m]\u001b[38;5;241m.\u001b[39mname,\n\u001b[1;32m      7\u001b[0m                                   model\u001b[38;5;241m.\u001b[39mlatest_versions[\u001b[38;5;241m0\u001b[39m]\u001b[38;5;241m.\u001b[39mrun_id,\n\u001b[1;32m      8\u001b[0m                                   model\u001b[38;5;241m.\u001b[39mlatest_versions[\u001b[38;5;241m0\u001b[39m]\u001b[38;5;241m.\u001b[39mversion,\n\u001b[0;32m   (...)\u001b[0m\n\u001b[1;32m     11\u001b[0m                                   model\u001b[38;5;241m.\u001b[39mlatest_versions[\u001b[38;5;241m0\u001b[39m]\u001b[38;5;241m.\u001b[39mtags,\n\u001b[1;32m     12\u001b[0m                                   model\u001b[38;5;241m.\u001b[39mlatest_versions[\u001b[38;5;241m0\u001b[39m]\u001b[38;5;241m.\u001b[39msource))\n\u001b[1;32m     13\u001b[0m \u001b[38;5;66;03m#\u001b[39;00m\n\u001b[0;32m---> 14\u001b[0m display(\u001b[43mspark\u001b[49m\u001b[38;5;241m.\u001b[39mcreateDataFrame(registered_models, [\u001b[38;5;124m'\u001b[39m\u001b[38;5;124mname\u001b[39m\u001b[38;5;124m'\u001b[39m, \u001b[38;5;124m'\u001b[39m\u001b[38;5;124mrun_id\u001b[39m\u001b[38;5;124m'\u001b[39m, \u001b[38;5;124m'\u001b[39m\u001b[38;5;124mlatest_version\u001b[39m\u001b[38;5;124m'\u001b[39m, \u001b[38;5;124m'\u001b[39m\u001b[38;5;124mcurrent_stage\u001b[39m\u001b[38;5;124m'\u001b[39m, \u001b[38;5;124m'\u001b[39m\u001b[38;5;124mstatus\u001b[39m\u001b[38;5;124m'\u001b[39m, \u001b[38;5;124m'\u001b[39m\u001b[38;5;124mtags\u001b[39m\u001b[38;5;124m'\u001b[39m, \u001b[38;5;124m'\u001b[39m\u001b[38;5;124msource\u001b[39m\u001b[38;5;124m'\u001b[39m]))\n",
      "\u001b[0;31mNameError\u001b[0m: name 'spark' is not defined"
     ]
    }
   ],
   "source": [
    "client = mlflow.MlflowClient()\n",
    "#\n",
    "registered_models = []\n",
    "for model in client.search_registered_models():\n",
    "    if len(model.latest_versions)>0:\n",
    "        registered_models.append((model.latest_versions[0].name,\n",
    "                                  model.latest_versions[0].run_id,\n",
    "                                  model.latest_versions[0].version,\n",
    "                                  model.latest_versions[0].current_stage,\n",
    "                                  model.latest_versions[0].status,\n",
    "                                  model.latest_versions[0].tags,\n",
    "                                  model.latest_versions[0].source))\n",
    "#\n",
    "display(spark.createDataFrame(registered_models, ['name', 'run_id', 'latest_version', 'current_stage', 'status', 'tags', 'source']))"
   ]
  },
  {
   "cell_type": "markdown",
   "metadata": {
    "application/vnd.databricks.v1+cell": {
     "cellMetadata": {
      "byteLimit": 2048000,
      "rowLimit": 10000
     },
     "inputWidgets": {},
     "nuid": "c5ae840a-b532-4740-a51c-53b8567fa2b7",
     "showTitle": false,
     "title": ""
    }
   },
   "source": [
    "<p>Info about one specific registered model and its latest version:</p>"
   ]
  },
  {
   "cell_type": "code",
   "execution_count": 32,
   "metadata": {
    "application/vnd.databricks.v1+cell": {
     "cellMetadata": {
      "byteLimit": 2048000,
      "rowLimit": 10000
     },
     "inputWidgets": {},
     "nuid": "90c4c973-5442-4a84-8314-70c92c8c3f81",
     "showTitle": false,
     "title": ""
    }
   },
   "outputs": [
    {
     "data": {
      "text/plain": [
       "<RegisteredModel: aliases={}, creation_timestamp=1728978846571, description='', last_updated_timestamp=1728978848131, latest_versions=[<ModelVersion: aliases=[], creation_timestamp=1728978848131, current_stage='None', description='', last_updated_timestamp=1728978848131, name='lr_sns_diamonds', run_id='c4d59e626f1e40bea38159946fe438f7', run_link='', source='mlflow-artifacts:/1/c4d59e626f1e40bea38159946fe438f7/artifacts/sns_diamonds', status='READY', status_message='', tags={}, user_id='', version='2'>], name='lr_sns_diamonds', tags={}>"
      ]
     },
     "execution_count": 32,
     "metadata": {},
     "output_type": "execute_result"
    }
   ],
   "source": [
    "client.get_registered_model('lr_sns_diamonds')"
   ]
  },
  {
   "cell_type": "markdown",
   "metadata": {
    "application/vnd.databricks.v1+cell": {
     "cellMetadata": {},
     "inputWidgets": {},
     "nuid": "b4e996a0-b3fa-4135-b54e-eeaef8b54fde",
     "showTitle": false,
     "title": ""
    }
   },
   "source": [
    "<p>Info about one specific model and a given version:</p>"
   ]
  },
  {
   "cell_type": "code",
   "execution_count": 33,
   "metadata": {
    "application/vnd.databricks.v1+cell": {
     "cellMetadata": {
      "byteLimit": 2048000,
      "rowLimit": 10000
     },
     "inputWidgets": {},
     "nuid": "be9ea997-228d-4692-934b-76b6513d3e59",
     "showTitle": false,
     "title": ""
    }
   },
   "outputs": [
    {
     "data": {
      "text/plain": [
       "<ModelVersion: aliases=[], creation_timestamp=1728978848131, current_stage='None', description='', last_updated_timestamp=1728978848131, name='lr_sns_diamonds', run_id='c4d59e626f1e40bea38159946fe438f7', run_link='', source='mlflow-artifacts:/1/c4d59e626f1e40bea38159946fe438f7/artifacts/sns_diamonds', status='READY', status_message='', tags={}, user_id='', version='2'>"
      ]
     },
     "execution_count": 33,
     "metadata": {},
     "output_type": "execute_result"
    }
   ],
   "source": [
    "client.get_model_version('lr_sns_diamonds', 2)"
   ]
  },
  {
   "cell_type": "markdown",
   "metadata": {
    "application/vnd.databricks.v1+cell": {
     "cellMetadata": {},
     "inputWidgets": {},
     "nuid": "dff14a6e-6e4c-4f2b-8409-2e89eb1da7e1",
     "showTitle": false,
     "title": ""
    }
   },
   "source": [
    "<p>Transition a specific version of a registered model to a given stage. Valid values for stage are: <b>Production</b>, <b>Staging</b>, <b>Archived</b>, <b>None</b></p>"
   ]
  },
  {
   "cell_type": "code",
   "execution_count": 37,
   "metadata": {
    "application/vnd.databricks.v1+cell": {
     "cellMetadata": {
      "byteLimit": 2048000,
      "rowLimit": 10000
     },
     "inputWidgets": {},
     "nuid": "e79ff6f4-0c37-479b-a7d3-e67c3911be20",
     "showTitle": false,
     "title": ""
    }
   },
   "outputs": [
    {
     "name": "stderr",
     "output_type": "stream",
     "text": [
      "/var/folders/xd/3z5vvpds0zxf_pypxd4cn3d80000gn/T/ipykernel_91032/2893134487.py:1: FutureWarning: ``mlflow.tracking.client.MlflowClient.transition_model_version_stage`` is deprecated since 2.9.0. Model registry stages will be removed in a future major release. To learn more about the deprecation of model registry stages, see our migration guide here: https://mlflow.org/docs/latest/model-registry.html#migrating-from-stages\n",
      "  client.transition_model_version_stage('lr_sns_diamonds', 2, 'Production')\n"
     ]
    },
    {
     "data": {
      "text/plain": [
       "<ModelVersion: aliases=[], creation_timestamp=1728978848131, current_stage='Production', description='', last_updated_timestamp=1728978990760, name='lr_sns_diamonds', run_id='c4d59e626f1e40bea38159946fe438f7', run_link='', source='mlflow-artifacts:/1/c4d59e626f1e40bea38159946fe438f7/artifacts/sns_diamonds', status='READY', status_message='', tags={}, user_id='', version='2'>"
      ]
     },
     "execution_count": 37,
     "metadata": {},
     "output_type": "execute_result"
    }
   ],
   "source": [
    "client.transition_model_version_stage('lr_sns_diamonds', 2, 'Production')"
   ]
  },
  {
   "cell_type": "markdown",
   "metadata": {
    "application/vnd.databricks.v1+cell": {
     "cellMetadata": {},
     "inputWidgets": {},
     "nuid": "0b5431f9-1d59-464b-b1cc-2cf494aa92dd",
     "showTitle": false,
     "title": ""
    }
   },
   "source": [
    "<p>Archive a specific version of a registered model is the same command:</p>"
   ]
  },
  {
   "cell_type": "code",
   "execution_count": 39,
   "metadata": {
    "application/vnd.databricks.v1+cell": {
     "cellMetadata": {
      "byteLimit": 2048000,
      "rowLimit": 10000
     },
     "inputWidgets": {},
     "nuid": "c462771f-b6cf-493c-b77b-13f4311006de",
     "showTitle": false,
     "title": ""
    }
   },
   "outputs": [
    {
     "name": "stderr",
     "output_type": "stream",
     "text": [
      "/var/folders/xd/3z5vvpds0zxf_pypxd4cn3d80000gn/T/ipykernel_91032/4212516620.py:1: FutureWarning: ``mlflow.tracking.client.MlflowClient.transition_model_version_stage`` is deprecated since 2.9.0. Model registry stages will be removed in a future major release. To learn more about the deprecation of model registry stages, see our migration guide here: https://mlflow.org/docs/latest/model-registry.html#migrating-from-stages\n",
      "  client.transition_model_version_stage('lr_sns_diamonds', 1, 'Archived')\n"
     ]
    },
    {
     "data": {
      "text/plain": [
       "<ModelVersion: aliases=[], creation_timestamp=1728978846600, current_stage='Archived', description='', last_updated_timestamp=1728979004635, name='lr_sns_diamonds', run_id='246754e0f988487bb1ef6107a6e65c20', run_link='', source='mlflow-artifacts:/1/246754e0f988487bb1ef6107a6e65c20/artifacts/sns_diamonds', status='READY', status_message='', tags={}, user_id='', version='1'>"
      ]
     },
     "execution_count": 39,
     "metadata": {},
     "output_type": "execute_result"
    }
   ],
   "source": [
    "client.transition_model_version_stage('lr_sns_diamonds', 1, 'Archived')"
   ]
  },
  {
   "cell_type": "markdown",
   "metadata": {
    "application/vnd.databricks.v1+cell": {
     "cellMetadata": {},
     "inputWidgets": {},
     "nuid": "f374fb72-b05e-4bbb-8a3e-8f69ee54fd09",
     "showTitle": false,
     "title": ""
    }
   },
   "source": [
    "<p>Delete a registered model version:</p>"
   ]
  },
  {
   "cell_type": "code",
   "execution_count": 40,
   "metadata": {
    "application/vnd.databricks.v1+cell": {
     "cellMetadata": {
      "byteLimit": 2048000,
      "rowLimit": 10000
     },
     "inputWidgets": {},
     "nuid": "ae7ce43b-efdd-4284-a4cf-84d2661f91f6",
     "showTitle": false,
     "title": ""
    }
   },
   "outputs": [
    {
     "ename": "RestException",
     "evalue": "RESOURCE_DOES_NOT_EXIST: Model Version (name=lr_sns_diamonds, version=6) not found",
     "output_type": "error",
     "traceback": [
      "\u001b[0;31m---------------------------------------------------------------------------\u001b[0m",
      "\u001b[0;31mRestException\u001b[0m                             Traceback (most recent call last)",
      "Cell \u001b[0;32mIn[40], line 1\u001b[0m\n\u001b[0;32m----> 1\u001b[0m \u001b[43mclient\u001b[49m\u001b[38;5;241;43m.\u001b[39;49m\u001b[43mdelete_model_version\u001b[49m\u001b[43m(\u001b[49m\u001b[38;5;124;43m'\u001b[39;49m\u001b[38;5;124;43mlr_sns_diamonds\u001b[39;49m\u001b[38;5;124;43m'\u001b[39;49m\u001b[43m,\u001b[49m\u001b[43m \u001b[49m\u001b[38;5;241;43m6\u001b[39;49m\u001b[43m)\u001b[49m\n",
      "File \u001b[0;32m/opt/anaconda3/envs/ths/lib/python3.10/site-packages/mlflow/tracking/client.py:4040\u001b[0m, in \u001b[0;36mMlflowClient.delete_model_version\u001b[0;34m(self, name, version)\u001b[0m\n\u001b[1;32m   3955\u001b[0m \u001b[38;5;28;01mdef\u001b[39;00m \u001b[38;5;21mdelete_model_version\u001b[39m(\u001b[38;5;28mself\u001b[39m, name: \u001b[38;5;28mstr\u001b[39m, version: \u001b[38;5;28mstr\u001b[39m) \u001b[38;5;241m-\u001b[39m\u001b[38;5;241m>\u001b[39m \u001b[38;5;28;01mNone\u001b[39;00m:\n\u001b[1;32m   3956\u001b[0m \u001b[38;5;250m    \u001b[39m\u001b[38;5;124;03m\"\"\"\u001b[39;00m\n\u001b[1;32m   3957\u001b[0m \u001b[38;5;124;03m    Delete model version in backend.\u001b[39;00m\n\u001b[1;32m   3958\u001b[0m \n\u001b[0;32m   (...)\u001b[0m\n\u001b[1;32m   4038\u001b[0m \u001b[38;5;124;03m        current_stage: None\u001b[39;00m\n\u001b[1;32m   4039\u001b[0m \u001b[38;5;124;03m    \"\"\"\u001b[39;00m\n\u001b[0;32m-> 4040\u001b[0m     \u001b[38;5;28;43mself\u001b[39;49m\u001b[38;5;241;43m.\u001b[39;49m\u001b[43m_get_registry_client\u001b[49m\u001b[43m(\u001b[49m\u001b[43m)\u001b[49m\u001b[38;5;241;43m.\u001b[39;49m\u001b[43mdelete_model_version\u001b[49m\u001b[43m(\u001b[49m\u001b[43mname\u001b[49m\u001b[43m,\u001b[49m\u001b[43m \u001b[49m\u001b[43mversion\u001b[49m\u001b[43m)\u001b[49m\n",
      "File \u001b[0;32m/opt/anaconda3/envs/ths/lib/python3.10/site-packages/mlflow/tracking/_model_registry/client.py:303\u001b[0m, in \u001b[0;36mModelRegistryClient.delete_model_version\u001b[0;34m(self, name, version)\u001b[0m\n\u001b[1;32m    295\u001b[0m \u001b[38;5;28;01mdef\u001b[39;00m \u001b[38;5;21mdelete_model_version\u001b[39m(\u001b[38;5;28mself\u001b[39m, name, version):\n\u001b[1;32m    296\u001b[0m \u001b[38;5;250m    \u001b[39m\u001b[38;5;124;03m\"\"\"Delete model version in backend.\u001b[39;00m\n\u001b[1;32m    297\u001b[0m \n\u001b[1;32m    298\u001b[0m \u001b[38;5;124;03m    Args:\u001b[39;00m\n\u001b[0;32m   (...)\u001b[0m\n\u001b[1;32m    301\u001b[0m \n\u001b[1;32m    302\u001b[0m \u001b[38;5;124;03m    \"\"\"\u001b[39;00m\n\u001b[0;32m--> 303\u001b[0m     \u001b[38;5;28;43mself\u001b[39;49m\u001b[38;5;241;43m.\u001b[39;49m\u001b[43mstore\u001b[49m\u001b[38;5;241;43m.\u001b[39;49m\u001b[43mdelete_model_version\u001b[49m\u001b[43m(\u001b[49m\u001b[43mname\u001b[49m\u001b[43m,\u001b[49m\u001b[43m \u001b[49m\u001b[43mversion\u001b[49m\u001b[43m)\u001b[49m\n",
      "File \u001b[0;32m/opt/anaconda3/envs/ths/lib/python3.10/site-packages/mlflow/store/model_registry/rest_store.py:329\u001b[0m, in \u001b[0;36mRestStore.delete_model_version\u001b[0;34m(self, name, version)\u001b[0m\n\u001b[1;32m    318\u001b[0m \u001b[38;5;250m\u001b[39m\u001b[38;5;124;03m\"\"\"\u001b[39;00m\n\u001b[1;32m    319\u001b[0m \u001b[38;5;124;03mDelete model version in backend.\u001b[39;00m\n\u001b[1;32m    320\u001b[0m \n\u001b[0;32m   (...)\u001b[0m\n\u001b[1;32m    326\u001b[0m \u001b[38;5;124;03m    None\u001b[39;00m\n\u001b[1;32m    327\u001b[0m \u001b[38;5;124;03m\"\"\"\u001b[39;00m\n\u001b[1;32m    328\u001b[0m req_body \u001b[38;5;241m=\u001b[39m message_to_json(DeleteModelVersion(name\u001b[38;5;241m=\u001b[39mname, version\u001b[38;5;241m=\u001b[39m\u001b[38;5;28mstr\u001b[39m(version)))\n\u001b[0;32m--> 329\u001b[0m \u001b[38;5;28;43mself\u001b[39;49m\u001b[38;5;241;43m.\u001b[39;49m\u001b[43m_call_endpoint\u001b[49m\u001b[43m(\u001b[49m\u001b[43mDeleteModelVersion\u001b[49m\u001b[43m,\u001b[49m\u001b[43m \u001b[49m\u001b[43mreq_body\u001b[49m\u001b[43m)\u001b[49m\n",
      "File \u001b[0;32m/opt/anaconda3/envs/ths/lib/python3.10/site-packages/mlflow/store/model_registry/base_rest_store.py:44\u001b[0m, in \u001b[0;36mBaseRestStore._call_endpoint\u001b[0;34m(self, api, json_body, call_all_endpoints, extra_headers)\u001b[0m\n\u001b[1;32m     42\u001b[0m \u001b[38;5;28;01melse\u001b[39;00m:\n\u001b[1;32m     43\u001b[0m     endpoint, method \u001b[38;5;241m=\u001b[39m \u001b[38;5;28mself\u001b[39m\u001b[38;5;241m.\u001b[39m_get_endpoint_from_method(api)\n\u001b[0;32m---> 44\u001b[0m     \u001b[38;5;28;01mreturn\u001b[39;00m \u001b[43mcall_endpoint\u001b[49m\u001b[43m(\u001b[49m\n\u001b[1;32m     45\u001b[0m \u001b[43m        \u001b[49m\u001b[38;5;28;43mself\u001b[39;49m\u001b[38;5;241;43m.\u001b[39;49m\u001b[43mget_host_creds\u001b[49m\u001b[43m(\u001b[49m\u001b[43m)\u001b[49m\u001b[43m,\u001b[49m\u001b[43m \u001b[49m\u001b[43mendpoint\u001b[49m\u001b[43m,\u001b[49m\u001b[43m \u001b[49m\u001b[43mmethod\u001b[49m\u001b[43m,\u001b[49m\u001b[43m \u001b[49m\u001b[43mjson_body\u001b[49m\u001b[43m,\u001b[49m\u001b[43m \u001b[49m\u001b[43mresponse_proto\u001b[49m\u001b[43m,\u001b[49m\u001b[43m \u001b[49m\u001b[43mextra_headers\u001b[49m\n\u001b[1;32m     46\u001b[0m \u001b[43m    \u001b[49m\u001b[43m)\u001b[49m\n",
      "File \u001b[0;32m/opt/anaconda3/envs/ths/lib/python3.10/site-packages/mlflow/utils/rest_utils.py:370\u001b[0m, in \u001b[0;36mcall_endpoint\u001b[0;34m(host_creds, endpoint, method, json_body, response_proto, extra_headers)\u001b[0m\n\u001b[1;32m    367\u001b[0m     call_kwargs[\u001b[38;5;124m\"\u001b[39m\u001b[38;5;124mjson\u001b[39m\u001b[38;5;124m\"\u001b[39m] \u001b[38;5;241m=\u001b[39m json_body\n\u001b[1;32m    368\u001b[0m     response \u001b[38;5;241m=\u001b[39m http_request(\u001b[38;5;241m*\u001b[39m\u001b[38;5;241m*\u001b[39mcall_kwargs)\n\u001b[0;32m--> 370\u001b[0m response \u001b[38;5;241m=\u001b[39m \u001b[43mverify_rest_response\u001b[49m\u001b[43m(\u001b[49m\u001b[43mresponse\u001b[49m\u001b[43m,\u001b[49m\u001b[43m \u001b[49m\u001b[43mendpoint\u001b[49m\u001b[43m)\u001b[49m\n\u001b[1;32m    371\u001b[0m response_to_parse \u001b[38;5;241m=\u001b[39m response\u001b[38;5;241m.\u001b[39mtext\n\u001b[1;32m    372\u001b[0m js_dict \u001b[38;5;241m=\u001b[39m json\u001b[38;5;241m.\u001b[39mloads(response_to_parse)\n",
      "File \u001b[0;32m/opt/anaconda3/envs/ths/lib/python3.10/site-packages/mlflow/utils/rest_utils.py:240\u001b[0m, in \u001b[0;36mverify_rest_response\u001b[0;34m(response, endpoint)\u001b[0m\n\u001b[1;32m    238\u001b[0m \u001b[38;5;28;01mif\u001b[39;00m response\u001b[38;5;241m.\u001b[39mstatus_code \u001b[38;5;241m!=\u001b[39m \u001b[38;5;241m200\u001b[39m:\n\u001b[1;32m    239\u001b[0m     \u001b[38;5;28;01mif\u001b[39;00m _can_parse_as_json_object(response\u001b[38;5;241m.\u001b[39mtext):\n\u001b[0;32m--> 240\u001b[0m         \u001b[38;5;28;01mraise\u001b[39;00m RestException(json\u001b[38;5;241m.\u001b[39mloads(response\u001b[38;5;241m.\u001b[39mtext))\n\u001b[1;32m    241\u001b[0m     \u001b[38;5;28;01melse\u001b[39;00m:\n\u001b[1;32m    242\u001b[0m         base_msg \u001b[38;5;241m=\u001b[39m (\n\u001b[1;32m    243\u001b[0m             \u001b[38;5;124mf\u001b[39m\u001b[38;5;124m\"\u001b[39m\u001b[38;5;124mAPI request to endpoint \u001b[39m\u001b[38;5;132;01m{\u001b[39;00mendpoint\u001b[38;5;132;01m}\u001b[39;00m\u001b[38;5;124m \u001b[39m\u001b[38;5;124m\"\u001b[39m\n\u001b[1;32m    244\u001b[0m             \u001b[38;5;124mf\u001b[39m\u001b[38;5;124m\"\u001b[39m\u001b[38;5;124mfailed with error code \u001b[39m\u001b[38;5;132;01m{\u001b[39;00mresponse\u001b[38;5;241m.\u001b[39mstatus_code\u001b[38;5;132;01m}\u001b[39;00m\u001b[38;5;124m != 200\u001b[39m\u001b[38;5;124m\"\u001b[39m\n\u001b[1;32m    245\u001b[0m         )\n",
      "\u001b[0;31mRestException\u001b[0m: RESOURCE_DOES_NOT_EXIST: Model Version (name=lr_sns_diamonds, version=6) not found"
     ]
    }
   ],
   "source": [
    "client.delete_model_version('lr_sns_diamonds', 6)"
   ]
  },
  {
   "cell_type": "markdown",
   "metadata": {
    "application/vnd.databricks.v1+cell": {
     "cellMetadata": {},
     "inputWidgets": {},
     "nuid": "24e0e44b-1a98-44f4-8a39-ab026c1344d5",
     "showTitle": false,
     "title": ""
    }
   },
   "source": [
    "<p>Get a list of available properties and methods:</p>"
   ]
  },
  {
   "cell_type": "code",
   "execution_count": 41,
   "metadata": {
    "application/vnd.databricks.v1+cell": {
     "cellMetadata": {
      "byteLimit": 2048000,
      "rowLimit": 10000
     },
     "inputWidgets": {},
     "nuid": "43f65c9b-d3c0-456f-8d37-5d59c5e580d0",
     "showTitle": false,
     "title": ""
    }
   },
   "outputs": [
    {
     "ename": "NameError",
     "evalue": "name 'spark' is not defined",
     "output_type": "error",
     "traceback": [
      "\u001b[0;31m---------------------------------------------------------------------------\u001b[0m",
      "\u001b[0;31mNameError\u001b[0m                                 Traceback (most recent call last)",
      "Cell \u001b[0;32mIn[41], line 1\u001b[0m\n\u001b[0;32m----> 1\u001b[0m display(\u001b[43mspark\u001b[49m\u001b[38;5;241m.\u001b[39mcreateDataFrame([{\u001b[38;5;124m'\u001b[39m\u001b[38;5;124mprops_and_methods\u001b[39m\u001b[38;5;124m'\u001b[39m: method} \u001b[38;5;28;01mfor\u001b[39;00m method \u001b[38;5;129;01min\u001b[39;00m \u001b[38;5;28mdir\u001b[39m(client) \u001b[38;5;28;01mif\u001b[39;00m method[\u001b[38;5;241m0\u001b[39m]\u001b[38;5;241m!=\u001b[39m\u001b[38;5;124m'\u001b[39m\u001b[38;5;124m_\u001b[39m\u001b[38;5;124m'\u001b[39m]))\n",
      "\u001b[0;31mNameError\u001b[0m: name 'spark' is not defined"
     ]
    }
   ],
   "source": [
    "display(spark.createDataFrame([{'props_and_methods': method} for method in dir(client) if method[0]!='_']))"
   ]
  },
  {
   "cell_type": "code",
   "execution_count": null,
   "metadata": {},
   "outputs": [],
   "source": []
  }
 ],
 "metadata": {
  "application/vnd.databricks.v1+notebook": {
   "dashboards": [],
   "language": "python",
   "notebookMetadata": {
    "mostRecentlyExecutedCommandWithImplicitDF": {
     "commandId": -1,
     "dataframes": [
      "_sqldf"
     ]
    },
    "pythonIndentUnit": 2
   },
   "notebookName": "Databricks-ML-professional-S02b-Model-Management",
   "widgets": {}
  },
  "kernelspec": {
   "display_name": "ths",
   "language": "python",
   "name": "python3"
  },
  "language_info": {
   "codemirror_mode": {
    "name": "ipython",
    "version": 3
   },
   "file_extension": ".py",
   "mimetype": "text/x-python",
   "name": "python",
   "nbconvert_exporter": "python",
   "pygments_lexer": "ipython3",
   "version": "3.10.13"
  }
 },
 "nbformat": 4,
 "nbformat_minor": 4
}
